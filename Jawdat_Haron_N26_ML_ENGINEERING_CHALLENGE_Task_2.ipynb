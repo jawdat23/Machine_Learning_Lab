{
  "nbformat": 4,
  "nbformat_minor": 0,
  "metadata": {
    "colab": {
      "name": "Jawdat Haron N26 ML ENGINEERING CHALLENGE Task 2.ipynb",
      "provenance": [],
      "collapsed_sections": [],
      "include_colab_link": true
    },
    "kernelspec": {
      "name": "python3",
      "display_name": "Python 3"
    },
    "language_info": {
      "name": "python"
    }
  },
  "cells": [
    {
      "cell_type": "markdown",
      "metadata": {
        "id": "view-in-github",
        "colab_type": "text"
      },
      "source": [
        "<a href=\"https://colab.research.google.com/github/jawdat23/Machine_Learning_Lab/blob/master/Jawdat_Haron_N26_ML_ENGINEERING_CHALLENGE_Task_2.ipynb\" target=\"_parent\"><img src=\"https://colab.research.google.com/assets/colab-badge.svg\" alt=\"Open In Colab\"/></a>"
      ]
    },
    {
      "cell_type": "markdown",
      "metadata": {
        "id": "Cmvp70iv3Jof"
      },
      "source": [
        "Here is the code to the task 2 of the ML ENGINEERING CHALLENGE.\n",
        "Hope you will enjoy it.\n"
      ]
    },
    {
      "cell_type": "markdown",
      "metadata": {
        "id": "zFUFMX5p3Th_"
      },
      "source": [
        "I am using Python 3.7.10 version and standard library. "
      ]
    },
    {
      "cell_type": "code",
      "metadata": {
        "colab": {
          "base_uri": "https://localhost:8080/"
        },
        "id": "zViGlK5lI8qG",
        "outputId": "beaca018-0412-46eb-8484-151452a77e31"
      },
      "source": [
        "!python --version"
      ],
      "execution_count": 1,
      "outputs": [
        {
          "output_type": "stream",
          "text": [
            "Python 3.7.10\n"
          ],
          "name": "stdout"
        }
      ]
    },
    {
      "cell_type": "markdown",
      "metadata": {
        "id": "WkVv-6gGI9Kg"
      },
      "source": [
        "\n",
        "Here is the code snippet given by you to generate transactions and users csv files, no modifications, no additions.\n",
        "\n"
      ]
    },
    {
      "cell_type": "code",
      "metadata": {
        "id": "WuIlL1TqpQIg"
      },
      "source": [
        "# Copyright 2020 N26 GmbH\n",
        "\n",
        "# Permission is hereby granted, free of charge, to any person obtaining a copy\n",
        "# of this software and associated documentation files (the \"Software\"), to deal\n",
        "# in the Software without restriction, including without limitation the rights\n",
        "# to use, copy, modify, merge, publish, distribute, sublicense, and/or sell\n",
        "# copies of the Software, and to permit persons to whom the Software is\n",
        "# furnished to do so, subject to the following conditions:\n",
        "\n",
        "# The above copyright notice and this permission notice shall be included in\n",
        "# all copies or substantial portions of the Software.\n",
        "\n",
        "# THE SOFTWARE IS PROVIDED \"AS IS\", WITHOUT WARRANTY OF ANY KIND, EXPRESS OR\n",
        "# IMPLIED, INCLUDING BUT NOT LIMITED TO THE WARRANTIES OF MERCHANTABILITY,\n",
        "# FITNESS FOR A PARTICULAR PURPOSE AND NONINFRINGEMENT. IN NO EVENT SHALL THE\n",
        "# AUTHORS OR COPYRIGHT HOLDERS BE LIABLE FOR ANY CLAIM, DAMAGES OR OTHER\n",
        "# LIABILITY, WHETHER IN AN ACTION OF CONTRACT, TORT OR OTHERWISE, ARISING FROM,\n",
        "# OUT OF OR IN CONNECTION WITH THE SOFTWARE OR THE USE OR OTHER DEALINGS IN THE\n",
        "# SOFTWARE.\n",
        "\n",
        "\n",
        "import argparse\n",
        "import csv\n",
        "import datetime\n",
        "import os\n",
        "import random\n",
        "import uuid\n",
        "\n",
        "\n",
        "def generate_transactions(users):\n",
        "    num_transactions = 100000\n",
        "    num_users = len(users['data'])\n",
        "\n",
        "    header = [\n",
        "        'transaction_id',\n",
        "        'date',\n",
        "        'user_id',\n",
        "        'is_blocked',\n",
        "        'transaction_amount',\n",
        "        'transaction_category_id'\n",
        "    ]\n",
        "\n",
        "    data = [[\n",
        "        uuid.uuid4(),\n",
        "        (datetime.date.today() - datetime.timedelta(days=random.randint(int(i / num_users), 100))).strftime('%Y-%m-%d'),\n",
        "        users['data'][random.randint(0, num_users - 1)][0],\n",
        "        random.random() < 0.99,\n",
        "        '%.2f' % (random.random() * 100),\n",
        "        random.randint(0, 10)\n",
        "    ] for i in range(num_transactions)]\n",
        "\n",
        "    return {'header': header, 'data': data}\n",
        "\n",
        "\n",
        "def generate_users():\n",
        "    num_users = 1000\n",
        "    header = [\n",
        "        'user_id',\n",
        "        'is_active'\n",
        "    ]\n",
        "\n",
        "    data = [[\n",
        "        uuid.uuid4(),\n",
        "        random.random() < 0.9\n",
        "    ] for _ in range(num_users)]\n",
        "\n",
        "    return {'header': header, 'data': data}\n",
        "\n",
        "\n",
        "def write_data(out, header, data):\n",
        "    if os.path.exists(out):\n",
        "        print('File %s already exists!' % out)\n",
        "        return False\n",
        "\n",
        "    try:\n",
        "        with open(out, 'w') as f:\n",
        "          writer = csv.writer(f)\n",
        "          writer.writerow(header)\n",
        "          writer.writerows(data)\n",
        "    except Exception as err:\n",
        "        print('Failed to write %s' % out)\n",
        "        return False\n",
        "    return True\n",
        "\n",
        "\n",
        "if __name__ == '__main__':\n",
        "    users = generate_users()\n",
        "    transactions = generate_transactions(users)\n",
        "\n",
        "    write_data('users.csv', users['header'], users['data'])\n",
        "    write_data('transactions.csv', transactions['header'], transactions['data'])"
      ],
      "execution_count": 2,
      "outputs": []
    },
    {
      "cell_type": "markdown",
      "metadata": {
        "id": "MoQ-UVIBJkic"
      },
      "source": [
        "Here is the code to generate the equivalent result of the SQL query.\n",
        "since the task is just to write a python code to calculate the result, with no generalization, this means that the input are assumed to be in the exact same format and order as the files generated using your code.\n",
        "That is why you will find raw numbers in the range [0-5].\n",
        "To have a better understanding of these numbers and what they are referring to, and to see a well documented version of this code you may see the after next cell."
      ]
    },
    {
      "cell_type": "code",
      "metadata": {
        "colab": {
          "base_uri": "https://localhost:8080/"
        },
        "id": "RCNlAxV4Um-l",
        "outputId": "d1ae2ef6-29b2-45a6-b516-39f9a7bd5ea4"
      },
      "source": [
        "import csv\n",
        "from itertools import groupby\n",
        "from itertools import tee\n",
        "from operator import itemgetter\n",
        "from bisect import bisect_left\n",
        "import sys\n",
        "\n",
        "def print_results(results):\n",
        "    sys.stdout.write('transaction_category_id \\t sum_amount \\t num_users\\n')\n",
        "    for result in results:\n",
        "        sys.stdout.write(result[0] + '\\t\\t\\t\\t' + str('%-10.7f' % result[1])\n",
        "         + '\\t\\t' + str(result[2]) + '\\n')\n",
        "\n",
        "\n",
        "def run(t_path, u_path):\n",
        "  with open(t_path) as tf, open(u_path) as uf:\n",
        "    transactions_reader = csv.reader(tf)\n",
        "    users_reader = csv.reader(uf)\n",
        "    active_users = [row[0] for row in users_reader if row[1] == \"True\"]\n",
        "    active_users.sort(key=str)\n",
        "    len_active_users = len(active_users)\n",
        "    results = []\n",
        "    for cat_id, cat_list in groupby(sorted([[row[5], row[4], row[2]] \n",
        "                                            for row in transactions_reader \n",
        "                                            if bisect_left(active_users, row[2]) != len_active_users\n",
        "                                            and active_users[bisect_left(active_users, row[2])] == row[2]\n",
        "                                            and row[3] == \"False\"]),\n",
        "                                            key = lambda x : x[0]):\n",
        "      cat_list, cat_list2 = tee(cat_list)\n",
        "      results.append([cat_id, sum(float(v[1]) for v in cat_list),\n",
        "                        len(set([v[2] for v in cat_list2]))])\n",
        "    return sorted(results, key=itemgetter(1), reverse=True)\n",
        "\n",
        "\n",
        "if __name__ == '__main__':   \n",
        "  transactions_path = \"transactions.csv\"\n",
        "  users_path = \"users.csv\"\n",
        "  print_results(run(transactions_path, users_path))"
      ],
      "execution_count": 3,
      "outputs": [
        {
          "output_type": "stream",
          "text": [
            "transaction_category_id \t sum_amount \t num_users\n",
            "8\t\t\t\t4725.0800000\t\t81\n",
            "9\t\t\t\t4506.4400000\t\t78\n",
            "10\t\t\t\t4199.3500000\t\t82\n",
            "4\t\t\t\t4186.7000000\t\t78\n",
            "7\t\t\t\t3906.3400000\t\t83\n",
            "3\t\t\t\t3684.1600000\t\t75\n",
            "2\t\t\t\t3679.8800000\t\t84\n",
            "5\t\t\t\t3674.5100000\t\t77\n",
            "0\t\t\t\t3638.6200000\t\t70\n",
            "1\t\t\t\t3605.4800000\t\t73\n",
            "6\t\t\t\t3564.3700000\t\t69\n"
          ],
          "name": "stdout"
        }
      ]
    },
    {
      "cell_type": "markdown",
      "metadata": {
        "id": "HGlrOUwvK8gu"
      },
      "source": [
        "Here is the same code as the pervious one, but a bit generalized, where you can modify the `get_data` function to modify the indices of the csv files, and it will give you a hint of the data I am extracting and use to calculate this query."
      ]
    },
    {
      "cell_type": "code",
      "metadata": {
        "colab": {
          "base_uri": "https://localhost:8080/"
        },
        "id": "dfdh_AXaphAp",
        "outputId": "93d037b6-4359-441e-efcc-5b20896002c3"
      },
      "source": [
        "#import useful tools from the python standard library\n",
        "import csv\n",
        "from itertools import groupby\n",
        "from itertools import tee\n",
        "from operator import itemgetter\n",
        "from bisect import bisect_left\n",
        "import sys\n",
        "\n",
        "\"\"\"Gets the necessary data of the csv files\n",
        "\n",
        "Args:\n",
        "    None.\n",
        "\n",
        "Returns:\n",
        "    transactions_path: a string reffering to the path of the transactions csv file.\n",
        "    users_path: a string reffering to the path of the users csv file.\n",
        "    headers_data: a dictionary of two dictionaries about the indices of the two\n",
        "                 csv files.\n",
        "\n",
        "\"\"\"\n",
        "def get_data():\n",
        "  #define the paths of the csv files\n",
        "  transactions_path = \"transactions.csv\"\n",
        "  users_path = \"users.csv\"\n",
        "\n",
        "  #define the indexes of the users and the transactions csv filea.\n",
        "  headers_data = {'users' : {'user_id_index' : 0,\n",
        "                             'is_active_index' : 1 },\n",
        "                  'transactions' : {  'tran_id_index' : 0,\n",
        "                                      'date_index' : 1,\n",
        "                                      'user_id_index' : 2,\n",
        "                                      'is_blocked_index' : 3,\n",
        "                                      'tran_amount_index' : 4,\n",
        "                                      'tran_cat_id_index' : 5}}\n",
        "                                      \n",
        "  return transactions_path, users_path, headers_data\n",
        "\n",
        "\n",
        "\"\"\"Prints a list using sys stdout\n",
        "\n",
        "Args:\n",
        "    results: list of results, each result contains 3 elements \n",
        "    (transaction_category_id, sum_amount, and num_users)\n",
        "\n",
        "Returns:\n",
        "    None.\n",
        "\"\"\"\n",
        "def print_results(results):\n",
        "    sys.stdout.write('transaction_category_id \\t sum_amount \\t num_users\\n')\n",
        "    for result in results:\n",
        "        sys.stdout.write(result[0] + '\\t\\t\\t\\t' + str('%-10.7f' % result[1])\n",
        "         + '\\t\\t' + str(result[2]) + '\\n')\n",
        "\n",
        "\n",
        "\"\"\"Gets a list of the transactions category ids with the sum of the transactions\n",
        "   amount under this category, and the number of ditinct users that run these\n",
        "   transactions sorted by the amount sum, where it takes only the non-blocked\n",
        "   transactions and the active users into acount.\n",
        "\n",
        "Args:\n",
        "    t_path: a string reffering to the path of the transactions csv file.\n",
        "    u_path: a string reffering to the path of the users csv file.\n",
        "    h_data: a dictionary of two dictionaries about the indices of the two\n",
        "                 csv files.\n",
        "Returns:\n",
        "    results: a list of the transactions category ids with the sum of the transactions\n",
        "    amount under this category, and the number of ditinct users that run these\n",
        "    transactions sorted by the amount sum.\n",
        "\"\"\"\n",
        "def run(t_path, u_path, h_data):\n",
        "  #opening the files\n",
        "  with open(t_path) as tf, open(u_path) as uf:\n",
        "\n",
        "    #define the csv readers for the 2 files\n",
        "    transactions_reader = csv.reader(tf)\n",
        "    users_reader = csv.reader(uf)\n",
        "\n",
        "    #get a copy of the active users\n",
        "    active_users = [row[h_data['users']['user_id_index']] for row in users_reader\n",
        "                    if row[h_data['users']['is_active_index']] == \"True\"]\n",
        "    #sort the active users so it we can use binary search on it\n",
        "    active_users.sort(key=str)\n",
        "    #store the length of the active user\n",
        "    len_active_users = len(active_users)\n",
        "    #define the list that will carry the results\n",
        "    results = []\n",
        "    # This for loop is doing most of the work\n",
        "    # First: extracting the transactions category id, amount, and user id for each\n",
        "    #        row where the user id is in the active users id list and transaction is not blocked.\n",
        "    # Second: sorting the list we obtained form the first step by the transaction category id.\n",
        "    # Third: grouping the sorted list by the transaction category id, and get each group alone.\n",
        "    for cat_id, cat_list in groupby(sorted([[row[h_data['transactions']['tran_cat_id_index']],\n",
        "                                            row[h_data['transactions']['tran_amount_index']],\n",
        "                                            row[h_data['transactions']['user_id_index']]] \n",
        "                                            for row in transactions_reader\n",
        "                                            if bisect_left(active_users, row[h_data['transactions']['user_id_index']]) != len_active_users\n",
        "                                            and active_users[bisect_left(active_users, row[h_data['transactions']['user_id_index']])] == row[h_data['transactions']['user_id_index']]\n",
        "                                            and row[h_data['transactions']['is_blocked_index']] == \"False\"]),\n",
        "                                            key = lambda x : x[0]):\n",
        "      # create a copy of the generator that will yield us the data list of the category because we need to do 2 different operation on it.\n",
        "      cat_list, cat_list2 = tee(cat_list)\n",
        "      # calculating the sum of the transaction amount, and the number of distinct users in each category.\n",
        "      results.append([cat_id, sum(float(v[1]) for v in cat_list),\n",
        "                        len(set([v[2] for v in cat_list2]))])\n",
        "    \n",
        "    # return a sorted result list by the amonut sum\n",
        "    return sorted(results, key=itemgetter(1), reverse=True)\n",
        "\n",
        "\n",
        "if __name__ == '__main__':   \n",
        "  transactions_path, users_path, headers_data = get_data()\n",
        "  print_results(run(transactions_path, users_path, headers_data))"
      ],
      "execution_count": 4,
      "outputs": [
        {
          "output_type": "stream",
          "text": [
            "transaction_category_id \t sum_amount \t num_users\n",
            "8\t\t\t\t4725.0800000\t\t81\n",
            "9\t\t\t\t4506.4400000\t\t78\n",
            "10\t\t\t\t4199.3500000\t\t82\n",
            "4\t\t\t\t4186.7000000\t\t78\n",
            "7\t\t\t\t3906.3400000\t\t83\n",
            "3\t\t\t\t3684.1600000\t\t75\n",
            "2\t\t\t\t3679.8800000\t\t84\n",
            "5\t\t\t\t3674.5100000\t\t77\n",
            "0\t\t\t\t3638.6200000\t\t70\n",
            "1\t\t\t\t3605.4800000\t\t73\n",
            "6\t\t\t\t3564.3700000\t\t69\n"
          ],
          "name": "stdout"
        }
      ]
    },
    {
      "cell_type": "markdown",
      "metadata": {
        "id": "Hfw08ZCfcnoy"
      },
      "source": [
        "some notes on the code: \n",
        "\n",
        "1.   I had to make a copy of the active users, as I have to iterate every time for each transaction and make sure its user is active, using a generator will only make me able to iterate once, and it is probably that the number of users is relevantly low, and it will not take much of a memory and storage.\n",
        "2.   I tried to do the query using one run on the transaction reader iterator, so it will not take any huge memory or storage, and since it is one run the complexity will be lower also.\n",
        "3.   The complexity of this code is O(M + Nlog(M)) where N is the number of the transactions, and M is the number of users, and in case M is low the complexity will be only O(N), taking in consideration that the number of categories in very low also.\n",
        "4.   The method I am using make sure the headers will be filtered out, no need to manually remove them.\n",
        "5.   In case we can make sure that the non-active users are not active for real. i.e. no empty rows or values other than 1 and 0, and we can make sure that the user_id in the transactions table is exisited for sure in the users table, then we can make a list of the non-active users only, which is 9 times smaller, and check if the user_id for the transaction is not in this list. This will make searching somehow faster, and the storage space needed is less.\n",
        "\n"
      ]
    }
  ]
}