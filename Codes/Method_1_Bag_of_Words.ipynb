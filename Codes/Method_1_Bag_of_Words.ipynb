{
  "nbformat": 4,
  "nbformat_minor": 0,
  "metadata": {
    "colab": {
      "name": "Method_1",
      "version": "0.3.2",
      "provenance": []
    },
    "kernelspec": {
      "name": "python3",
      "display_name": "Python 3"
    }
  },
  "cells": [
    {
      "cell_type": "code",
      "metadata": {
        "id": "KqrOj0PNQ4vG",
        "colab_type": "code",
        "colab": {}
      },
      "source": [
        "import pandas as pd\n",
        "training_data = \"https://raw.githubusercontent.com/jawdat23/Machine_Learning_Lab/master/word2vec-nlp-tutorial/labeledTrainData.tsv\"\n",
        "train = pd.read_csv(training_data, header=0, delimiter=\"\\t\", quoting=3)"
      ],
      "execution_count": 0,
      "outputs": []
    },
    {
      "cell_type": "code",
      "metadata": {
        "id": "HW_jyMM-Rx-y",
        "colab_type": "code",
        "outputId": "4e3e5bf1-c177-4717-e427-194e1b8c3cb0",
        "colab": {
          "base_uri": "https://localhost:8080/",
          "height": 34
        }
      },
      "source": [
        "train.shape"
      ],
      "execution_count": 24,
      "outputs": [
        {
          "output_type": "execute_result",
          "data": {
            "text/plain": [
              "(25000, 3)"
            ]
          },
          "metadata": {
            "tags": []
          },
          "execution_count": 24
        }
      ]
    },
    {
      "cell_type": "code",
      "metadata": {
        "id": "zgSrJXCURzsf",
        "colab_type": "code",
        "outputId": "55bde3c4-1c47-4405-b9c1-8099e4228f5c",
        "colab": {
          "base_uri": "https://localhost:8080/",
          "height": 34
        }
      },
      "source": [
        "train.columns.values"
      ],
      "execution_count": 25,
      "outputs": [
        {
          "output_type": "execute_result",
          "data": {
            "text/plain": [
              "array(['id', 'sentiment', 'review'], dtype=object)"
            ]
          },
          "metadata": {
            "tags": []
          },
          "execution_count": 25
        }
      ]
    },
    {
      "cell_type": "code",
      "metadata": {
        "id": "J7hzfM1XR2e0",
        "colab_type": "code",
        "outputId": "692d27fb-8154-41b2-8f1f-deffcf3b49c6",
        "colab": {
          "base_uri": "https://localhost:8080/",
          "height": 34
        }
      },
      "source": [
        "train[\"sentiment\"][0]"
      ],
      "execution_count": 48,
      "outputs": [
        {
          "output_type": "execute_result",
          "data": {
            "text/plain": [
              "1"
            ]
          },
          "metadata": {
            "tags": []
          },
          "execution_count": 48
        }
      ]
    },
    {
      "cell_type": "code",
      "metadata": {
        "id": "eRI639C7X9em",
        "colab_type": "code",
        "colab": {
          "base_uri": "https://localhost:8080/",
          "height": 34
        },
        "outputId": "41cb42f2-0389-4442-baba-7d8668b0dc9b"
      },
      "source": [
        "len(train[train['sentiment'] == 1])"
      ],
      "execution_count": 35,
      "outputs": [
        {
          "output_type": "execute_result",
          "data": {
            "text/plain": [
              "12500"
            ]
          },
          "metadata": {
            "tags": []
          },
          "execution_count": 35
        }
      ]
    },
    {
      "cell_type": "code",
      "metadata": {
        "id": "NAUgsUv8bbTc",
        "colab_type": "code",
        "colab": {
          "base_uri": "https://localhost:8080/",
          "height": 270
        },
        "outputId": "38099141-dd2c-4b69-f92b-aa415fce7807"
      },
      "source": [
        "import matplotlib.pyplot as plt\n",
        "plt.hist(train[train['sentiment'] == 1].sentiment,\n",
        "         bins=2, color='green', label='Positive')\n",
        "plt.hist(train[train['sentiment'] == 0].sentiment,\n",
        "         bins=2, color='red', label='Negative')\n",
        "plt.title('Classes distribution in the train data')\n",
        "plt.xticks([])\n",
        "plt.xlim(-0.5, 2)\n",
        "plt.legend()\n",
        "plt.show()"
      ],
      "execution_count": 27,
      "outputs": [
        {
          "output_type": "display_data",
          "data": {
            "image/png": "[encoded data removed]",
            "text/plain": [
              "<Figure size 432x288 with 1 Axes>"
            ]
          },
          "metadata": {
            "tags": []
          }
        }
      ]
    },
    {
      "cell_type": "code",
      "metadata": {
        "id": "JzKtGJgCcWkW",
        "colab_type": "code",
        "colab": {}
      },
      "source": [
        "import numpy as np\n",
        "# train['review_lenght'] = np.array(list(map(len, train['review'])))\n",
        "train['review_lenght'] = np.array(list(map(lambda x: len(x.split(\" \")), train['review'])))\n",
        "median = train['review_lenght'].median()\n",
        "mean = train['review_lenght'].mean()\n",
        "mode = train['review_lenght'].mode()[0]"
      ],
      "execution_count": 0,
      "outputs": []
    },
    {
      "cell_type": "code",
      "metadata": {
        "id": "GAwprgiRg2ko",
        "colab_type": "code",
        "colab": {
          "base_uri": "https://localhost:8080/",
          "height": 68
        },
        "outputId": "578f9770-3bf4-477d-e999-e15ba0895ecb"
      },
      "source": [
        "print(median)\n",
        "print(mean)\n",
        "print(mode)"
      ],
      "execution_count": 43,
      "outputs": [
        {
          "output_type": "stream",
          "text": [
            "174.0\n",
            "233.78624\n",
            "123\n"
          ],
          "name": "stdout"
        }
      ]
    },
    {
      "cell_type": "code",
      "metadata": {
        "id": "Fzr7CnLjcx9C",
        "colab_type": "code",
        "colab": {
          "base_uri": "https://localhost:8080/",
          "height": 300
        },
        "outputId": "7009b534-90d7-424b-929b-5a02529006c1"
      },
      "source": [
        "import seaborn as sb\n",
        "fig, ax = plt.subplots()\n",
        "sb.distplot(train['review_lenght'], bins=train['review_lenght'].max(),\n",
        "            hist_kws={\"alpha\": 0.9, \"color\": \"blue\"}, ax=ax,\n",
        "            kde_kws={\"color\": \"black\", 'linewidth': 3})\n",
        "ax.set_xlim(left=0, right=np.percentile(train['review_lenght'], 95))\n",
        "ax.set_xlabel('Words in review')\n",
        "ymax = 0.008\n",
        "plt.ylim(0, ymax)\n",
        "ax.plot([mode, mode], [0, ymax], '--', label=f'mode = {mode:.2f}', linewidth=4)\n",
        "ax.plot([mean, mean], [0, ymax], '--', label=f'mean = {mean:.2f}', linewidth=4)\n",
        "ax.plot([median, median], [0, ymax], '--',\n",
        "        label=f'median = {median:.2f}', linewidth=4)\n",
        "ax.set_title('Words per review distribution', fontsize=20)\n",
        "plt.legend()\n",
        "plt.show()"
      ],
      "execution_count": 47,
      "outputs": [
        {
          "output_type": "display_data",
          "data": {
            "image/png": "[encoded data removed]",
            "text/plain": [
              "<Figure size 432x288 with 1 Axes>"
            ]
          },
          "metadata": {
            "tags": []
          }
        }
      ]
    },
    {
      "cell_type": "code",
      "metadata": {
        "id": "Pjr6ZFxiR4Np",
        "colab_type": "code",
        "outputId": "80771d5f-420d-4923-c271-5d691f0a45de",
        "colab": {
          "base_uri": "https://localhost:8080/",
          "height": 34
        }
      },
      "source": [
        "!pip install BeautifulSoup4"
      ],
      "execution_count": 0,
      "outputs": [
        {
          "output_type": "stream",
          "text": [
            "Requirement already satisfied: BeautifulSoup4 in /usr/local/lib/python3.6/dist-packages (4.6.3)\n"
          ],
          "name": "stdout"
        }
      ]
    },
    {
      "cell_type": "code",
      "metadata": {
        "id": "dymm8TJMR6cS",
        "colab_type": "code",
        "outputId": "3fa6df12-32d4-4f9d-870d-67f705ea5122",
        "colab": {
          "base_uri": "https://localhost:8080/",
          "height": 54
        }
      },
      "source": [
        "# Import BeautifulSoup into your workspace\n",
        "from bs4 import BeautifulSoup             \n",
        "\n",
        "# Initialize the BeautifulSoup object on a single movie review     \n",
        "example1 = BeautifulSoup(train[\"review\"][0])  \n",
        "\n",
        "# Print the raw review and then the output of get_text(), for \n",
        "# comparison\n",
        "train[\"review\"][0]\n",
        "example1.get_text()"
      ],
      "execution_count": 0,
      "outputs": [
        {
          "output_type": "execute_result",
          "data": {
            "text/plain": [
              "'\"With all this stuff going down at the moment with MJ i\\'ve started listening to his music, watching the odd documentary here and there, watched The Wiz and watched Moonwalker again. Maybe i just want to get a certain insight into this guy who i thought was really cool in the eighties just to maybe make up my mind whether he is guilty or innocent. Moonwalker is part biography, part feature film which i remember going to see at the cinema when it was originally released. Some of it has subtle messages about MJ\\'s feeling towards the press and also the obvious message of drugs are bad m\\'kay.Visually impressive but of course this is all about Michael Jackson so unless you remotely like MJ in anyway then you are going to hate this and find it boring. Some may call MJ an egotist for consenting to the making of this movie BUT MJ and most of his fans would say that he made it for the fans which if true is really nice of him.The actual feature film bit when it finally starts is only on for 20 minutes or so excluding the Smooth Criminal sequence and Joe Pesci is convincing as a psychopathic all powerful drug lord. Why he wants MJ dead so bad is beyond me. Because MJ overheard his plans? Nah, Joe Pesci\\'s character ranted that he wanted people to know it is he who is supplying drugs etc so i dunno, maybe he just hates MJ\\'s music.Lots of cool things in this like MJ turning into a car and a robot and the whole Speed Demon sequence. Also, the director must have had the patience of a saint when it came to filming the kiddy Bad sequence as usually directors hate working with one kid let alone a whole bunch of them performing a complex dance scene.Bottom line, this movie is for people who like MJ on one level or another (which i think is most people). If not, then stay away. It does try and give off a wholesome message and ironically MJ\\'s bestest buddy in this movie is a girl! Michael Jackson is truly one of the most talented people ever to grace this planet but is he guilty? Well, with all the attention i\\'ve gave this subject....hmmm well i don\\'t know because people can be different behind closed doors, i know this for a fact. He is either an extremely nice but stupid guy or one of the most sickest liars. I hope he is not the latter.\"'"
            ]
          },
          "metadata": {
            "tags": []
          },
          "execution_count": 6
        }
      ]
    },
    {
      "cell_type": "code",
      "metadata": {
        "id": "Wy_eYKc9R80f",
        "colab_type": "code",
        "outputId": "072af4c2-9a5a-46ef-92a5-33eb0bd5c0b5",
        "colab": {
          "base_uri": "https://localhost:8080/",
          "height": 54
        }
      },
      "source": [
        "import re\n",
        "# Use regular expressions to do a find-and-replace\n",
        "letters_only = re.sub(\"[^a-zA-Z]\",           # The pattern to search for\n",
        "                      \" \",                   # The pattern to replace it with\n",
        "                      example1.get_text() )  # The text to search\n",
        "letters_only"
      ],
      "execution_count": 0,
      "outputs": [
        {
          "output_type": "execute_result",
          "data": {
            "text/plain": [
              "' With all this stuff going down at the moment with MJ i ve started listening to his music  watching the odd documentary here and there  watched The Wiz and watched Moonwalker again  Maybe i just want to get a certain insight into this guy who i thought was really cool in the eighties just to maybe make up my mind whether he is guilty or innocent  Moonwalker is part biography  part feature film which i remember going to see at the cinema when it was originally released  Some of it has subtle messages about MJ s feeling towards the press and also the obvious message of drugs are bad m kay Visually impressive but of course this is all about Michael Jackson so unless you remotely like MJ in anyway then you are going to hate this and find it boring  Some may call MJ an egotist for consenting to the making of this movie BUT MJ and most of his fans would say that he made it for the fans which if true is really nice of him The actual feature film bit when it finally starts is only on for    minutes or so excluding the Smooth Criminal sequence and Joe Pesci is convincing as a psychopathic all powerful drug lord  Why he wants MJ dead so bad is beyond me  Because MJ overheard his plans  Nah  Joe Pesci s character ranted that he wanted people to know it is he who is supplying drugs etc so i dunno  maybe he just hates MJ s music Lots of cool things in this like MJ turning into a car and a robot and the whole Speed Demon sequence  Also  the director must have had the patience of a saint when it came to filming the kiddy Bad sequence as usually directors hate working with one kid let alone a whole bunch of them performing a complex dance scene Bottom line  this movie is for people who like MJ on one level or another  which i think is most people   If not  then stay away  It does try and give off a wholesome message and ironically MJ s bestest buddy in this movie is a girl  Michael Jackson is truly one of the most talented people ever to grace this planet but is he guilty  Well  with all the attention i ve gave this subject    hmmm well i don t know because people can be different behind closed doors  i know this for a fact  He is either an extremely nice but stupid guy or one of the most sickest liars  I hope he is not the latter  '"
            ]
          },
          "metadata": {
            "tags": []
          },
          "execution_count": 7
        }
      ]
    },
    {
      "cell_type": "code",
      "metadata": {
        "id": "r9VLy1x4SAbn",
        "colab_type": "code",
        "colab": {}
      },
      "source": [
        "lower_case = letters_only.lower()        # Convert to lower case\n",
        "words = lower_case.split()               # Split into words"
      ],
      "execution_count": 0,
      "outputs": []
    },
    {
      "cell_type": "code",
      "metadata": {
        "id": "35W8W2f9SCK_",
        "colab_type": "code",
        "outputId": "40a8733d-de01-47f1-d06e-91ecb85de147",
        "colab": {
          "base_uri": "https://localhost:8080/",
          "height": 68
        }
      },
      "source": [
        "import nltk\n",
        "nltk.download(\"stopwords\")  # Download text data sets, including stop words"
      ],
      "execution_count": 0,
      "outputs": [
        {
          "output_type": "stream",
          "text": [
            "[nltk_data] Downloading package stopwords to /root/nltk_data...\n",
            "[nltk_data]   Unzipping corpora/stopwords.zip.\n"
          ],
          "name": "stdout"
        },
        {
          "output_type": "execute_result",
          "data": {
            "text/plain": [
              "True"
            ]
          },
          "metadata": {
            "tags": []
          },
          "execution_count": 10
        }
      ]
    },
    {
      "cell_type": "code",
      "metadata": {
        "id": "GJd1oCXbSDvF",
        "colab_type": "code",
        "colab": {}
      },
      "source": [
        "from nltk.corpus import stopwords # Import the stop word list\n",
        "stopwords.words(\"english\") "
      ],
      "execution_count": 0,
      "outputs": []
    },
    {
      "cell_type": "code",
      "metadata": {
        "id": "ranqWN0xSFYY",
        "colab_type": "code",
        "colab": {}
      },
      "source": [
        "# Remove stop words from \"words\"\n",
        "words = [w for w in words if not w in stopwords.words(\"english\")]\n",
        "words"
      ],
      "execution_count": 0,
      "outputs": []
    },
    {
      "cell_type": "code",
      "metadata": {
        "id": "hbpPeyfKSJaP",
        "colab_type": "code",
        "colab": {}
      },
      "source": [
        "def review_to_words( raw_review ):\n",
        "    # Function to convert a raw review to a string of words\n",
        "    # The input is a single string (a raw movie review), and \n",
        "    # the output is a single string (a preprocessed movie review)\n",
        "    #\n",
        "    # 1. Remove HTML\n",
        "    review_text = BeautifulSoup(raw_review).get_text() \n",
        "    #\n",
        "    # 2. Remove non-letters        \n",
        "    letters_only = re.sub(\"[^a-zA-Z]\", \" \", review_text) \n",
        "    #\n",
        "    # 3. Convert to lower case, split into individual words\n",
        "    words = letters_only.lower().split()                             \n",
        "    #\n",
        "    # 4. In Python, searching a set is much faster than searching\n",
        "    #   a list, so convert the stop words to a set\n",
        "    stops = set(stopwords.words(\"english\"))                  \n",
        "    # \n",
        "    # 5. Remove stop words\n",
        "    meaningful_words = [w for w in words if not w in stops]   \n",
        "    #\n",
        "    # 6. Join the words back into one string separated by space, \n",
        "    # and return the result.\n",
        "    return( \" \".join( meaningful_words )) "
      ],
      "execution_count": 0,
      "outputs": []
    },
    {
      "cell_type": "code",
      "metadata": {
        "id": "69CWbVbfSKXM",
        "colab_type": "code",
        "outputId": "3d78c144-283f-4dcc-a5b0-21351cf592c0",
        "colab": {
          "base_uri": "https://localhost:8080/",
          "height": 54
        }
      },
      "source": [
        "clean_review = review_to_words( train[\"review\"][0] )\n",
        "clean_review"
      ],
      "execution_count": 0,
      "outputs": [
        {
          "output_type": "execute_result",
          "data": {
            "text/plain": [
              "'stuff going moment mj started listening music watching odd documentary watched wiz watched moonwalker maybe want get certain insight guy thought really cool eighties maybe make mind whether guilty innocent moonwalker part biography part feature film remember going see cinema originally released subtle messages mj feeling towards press also obvious message drugs bad kay visually impressive course michael jackson unless remotely like mj anyway going hate find boring may call mj egotist consenting making movie mj fans would say made fans true really nice actual feature film bit finally starts minutes excluding smooth criminal sequence joe pesci convincing psychopathic powerful drug lord wants mj dead bad beyond mj overheard plans nah joe pesci character ranted wanted people know supplying drugs etc dunno maybe hates mj music lots cool things like mj turning car robot whole speed demon sequence also director must patience saint came filming kiddy bad sequence usually directors hate working one kid let alone whole bunch performing complex dance scene bottom line movie people like mj one level another think people stay away try give wholesome message ironically mj bestest buddy movie girl michael jackson truly one talented people ever grace planet guilty well attention gave subject hmmm well know people different behind closed doors know fact either extremely nice stupid guy one sickest liars hope latter'"
            ]
          },
          "metadata": {
            "tags": []
          },
          "execution_count": 14
        }
      ]
    },
    {
      "cell_type": "code",
      "metadata": {
        "id": "DSIkSmv8SMsX",
        "colab_type": "code",
        "colab": {}
      },
      "source": [
        "# Get the number of reviews based on the dataframe column size\n",
        "num_reviews = train[\"review\"].size\n",
        "\n",
        "# Initialize an empty list to hold the clean reviews\n",
        "clean_train_reviews = []\n",
        "\n",
        "# Loop over each review; create an index i that goes from 0 to the length\n",
        "# of the movie review list \n",
        "for i in range( 0, num_reviews ):\n",
        "    # Call the function for each one, and add the result to the list of\n",
        "    # clean reviews\n",
        "    clean_train_reviews.append( review_to_words( train[\"review\"][i] ) )"
      ],
      "execution_count": 0,
      "outputs": []
    },
    {
      "cell_type": "code",
      "metadata": {
        "id": "mtR7_Q62SOeW",
        "colab_type": "code",
        "outputId": "3c781ac2-6fed-4e61-9cbe-c206f97f76d0",
        "colab": {
          "base_uri": "https://localhost:8080/",
          "height": 867
        }
      },
      "source": [
        "clean_train_reviews = []\n",
        "for i in range( 0, num_reviews ):\n",
        "    # If the index is evenly divisible by 1000, print a message\n",
        "    if( (i+1)%1000 == 0 ):\n",
        "        print (\"Review %d of %d\\n\" % ( i+1, num_reviews ) )                                                                   \n",
        "    clean_train_reviews.append( review_to_words( train[\"review\"][i] ))"
      ],
      "execution_count": 0,
      "outputs": [
        {
          "output_type": "stream",
          "text": [
            "Review 1000 of 25000\n",
            "\n",
            "Review 2000 of 25000\n",
            "\n",
            "Review 3000 of 25000\n",
            "\n",
            "Review 4000 of 25000\n",
            "\n",
            "Review 5000 of 25000\n",
            "\n",
            "Review 6000 of 25000\n",
            "\n",
            "Review 7000 of 25000\n",
            "\n",
            "Review 8000 of 25000\n",
            "\n",
            "Review 9000 of 25000\n",
            "\n",
            "Review 10000 of 25000\n",
            "\n",
            "Review 11000 of 25000\n",
            "\n",
            "Review 12000 of 25000\n",
            "\n",
            "Review 13000 of 25000\n",
            "\n",
            "Review 14000 of 25000\n",
            "\n",
            "Review 15000 of 25000\n",
            "\n",
            "Review 16000 of 25000\n",
            "\n",
            "Review 17000 of 25000\n",
            "\n",
            "Review 18000 of 25000\n",
            "\n",
            "Review 19000 of 25000\n",
            "\n",
            "Review 20000 of 25000\n",
            "\n",
            "Review 21000 of 25000\n",
            "\n",
            "Review 22000 of 25000\n",
            "\n",
            "Review 23000 of 25000\n",
            "\n",
            "Review 24000 of 25000\n",
            "\n",
            "Review 25000 of 25000\n",
            "\n"
          ],
          "name": "stdout"
        }
      ]
    },
    {
      "cell_type": "code",
      "metadata": {
        "id": "t2mGrVwXSRoO",
        "colab_type": "code",
        "colab": {}
      },
      "source": [
        "from sklearn.feature_extraction.text import CountVectorizer\n",
        "\n",
        "# Initialize the \"CountVectorizer\" object, which is scikit-learn's\n",
        "# bag of words tool.  \n",
        "vectorizer = CountVectorizer(analyzer = \"word\",   \\\n",
        "                             tokenizer = None,    \\\n",
        "                             preprocessor = None, \\\n",
        "                             stop_words = None,   \\\n",
        "                             max_features = 5000) \n",
        "\n",
        "# fit_transform() does two functions: First, it fits the model\n",
        "# and learns the vocabulary; second, it transforms our training data\n",
        "# into feature vectors. The input to fit_transform should be a list of \n",
        "# strings.\n",
        "train_data_features = vectorizer.fit_transform(clean_train_reviews)\n",
        "\n",
        "# Numpy arrays are easy to work with, so convert the result to an \n",
        "# array\n",
        "train_data_features = train_data_features.toarray()"
      ],
      "execution_count": 0,
      "outputs": []
    },
    {
      "cell_type": "code",
      "metadata": {
        "id": "kpHFO8H9STr9",
        "colab_type": "code",
        "outputId": "5706caf6-68be-4a3a-db1c-a08d1b1e2882",
        "colab": {
          "base_uri": "https://localhost:8080/",
          "height": 34
        }
      },
      "source": [
        "train_data_features.shape"
      ],
      "execution_count": 0,
      "outputs": [
        {
          "output_type": "execute_result",
          "data": {
            "text/plain": [
              "(25000, 5000)"
            ]
          },
          "metadata": {
            "tags": []
          },
          "execution_count": 19
        }
      ]
    },
    {
      "cell_type": "code",
      "metadata": {
        "id": "1pN3eRISSVHH",
        "colab_type": "code",
        "colab": {}
      },
      "source": [
        "# Take a look at the words in the vocabulary\n",
        "vocab = vectorizer.get_feature_names()\n",
        "vocab"
      ],
      "execution_count": 0,
      "outputs": []
    },
    {
      "cell_type": "code",
      "metadata": {
        "id": "Lnv1PhqNSX7G",
        "colab_type": "code",
        "colab": {}
      },
      "source": [
        "import numpy as np\n",
        "\n",
        "# Sum up the counts of each vocabulary word\n",
        "dist = np.sum(train_data_features, axis=0)\n",
        "\n",
        "# For each, print the vocabulary word and the number of times it \n",
        "# appears in the training set\n",
        "for tag, count in zip(vocab, dist):\n",
        "    print(count, tag)\n"
      ],
      "execution_count": 0,
      "outputs": []
    },
    {
      "cell_type": "code",
      "metadata": {
        "id": "ZTJUkNiBSawj",
        "colab_type": "code",
        "colab": {}
      },
      "source": [
        "from sklearn.ensemble import RandomForestClassifier\n",
        "\n",
        "# Initialize a Random Forest classifier with 100 trees\n",
        "forest = RandomForestClassifier(n_estimators = 100) \n",
        "\n",
        "# Fit the forest to the training set, using the bag of words as \n",
        "# features and the sentiment labels as the response variable\n",
        "#\n",
        "forest = forest.fit( train_data_features, train[\"sentiment\"] )"
      ],
      "execution_count": 0,
      "outputs": []
    },
    {
      "cell_type": "code",
      "metadata": {
        "id": "RJhMWVP_Sd5j",
        "colab_type": "code",
        "outputId": "2b536ef7-a749-4541-8acf-455aac498206",
        "colab": {
          "base_uri": "https://localhost:8080/",
          "height": 918
        }
      },
      "source": [
        "# Read the test data\n",
        "testing_data = \"https://raw.githubusercontent.com/jawdat23/Machine_Learning_Lab/master/word2vec-nlp-tutorial/testData.tsv\"\n",
        "test = pd.read_csv(testing_data, header=0, delimiter=\"\\t\", quoting=3 )\n",
        "\n",
        "# Verify that there are 25,000 rows and 2 columns\n",
        "print (test.shape)\n",
        "\n",
        "# Create an empty list and append the clean reviews one by one\n",
        "num_reviews = len(test[\"review\"])\n",
        "clean_test_reviews = [] \n",
        "\n",
        "print (\"Cleaning and parsing the test set movie reviews...\\n\")\n",
        "for i in range(0,num_reviews):\n",
        "    if( (i+1) % 1000 == 0 ):\n",
        "        print (\"Review %d of %d\\n\" % (i+1, num_reviews))\n",
        "    clean_review = review_to_words( test[\"review\"][i] )\n",
        "    clean_test_reviews.append( clean_review )\n",
        "\n",
        "# Get a bag of words for the test set, and convert to a numpy array\n",
        "test_data_features = vectorizer.transform(clean_test_reviews)\n",
        "test_data_features = test_data_features.toarray()\n",
        "\n",
        "# Use the random forest to make sentiment label predictions\n",
        "result = forest.predict(test_data_features)\n",
        "\n",
        "# Copy the results to a pandas dataframe with an \"id\" column and\n",
        "# a \"sentiment\" column\n",
        "output = pd.DataFrame( data={\"id\":test[\"id\"], \"sentiment\":result} )\n",
        "\n",
        "# Use pandas to write the comma-separated output file\n",
        "output.to_csv( \"Method_1_Bag_of_Words.csv\", index=False, quoting=3 )"
      ],
      "execution_count": 0,
      "outputs": [
        {
          "output_type": "stream",
          "text": [
            "(25000, 2)\n",
            "Cleaning and parsing the test set movie reviews...\n",
            "\n",
            "Review 1000 of 25000\n",
            "\n",
            "Review 2000 of 25000\n",
            "\n",
            "Review 3000 of 25000\n",
            "\n",
            "Review 4000 of 25000\n",
            "\n",
            "Review 5000 of 25000\n",
            "\n",
            "Review 6000 of 25000\n",
            "\n",
            "Review 7000 of 25000\n",
            "\n",
            "Review 8000 of 25000\n",
            "\n",
            "Review 9000 of 25000\n",
            "\n",
            "Review 10000 of 25000\n",
            "\n",
            "Review 11000 of 25000\n",
            "\n",
            "Review 12000 of 25000\n",
            "\n",
            "Review 13000 of 25000\n",
            "\n",
            "Review 14000 of 25000\n",
            "\n",
            "Review 15000 of 25000\n",
            "\n",
            "Review 16000 of 25000\n",
            "\n",
            "Review 17000 of 25000\n",
            "\n",
            "Review 18000 of 25000\n",
            "\n",
            "Review 19000 of 25000\n",
            "\n",
            "Review 20000 of 25000\n",
            "\n",
            "Review 21000 of 25000\n",
            "\n",
            "Review 22000 of 25000\n",
            "\n",
            "Review 23000 of 25000\n",
            "\n",
            "Review 24000 of 25000\n",
            "\n",
            "Review 25000 of 25000\n",
            "\n"
          ],
          "name": "stdout"
        }
      ]
    }
  ]
}