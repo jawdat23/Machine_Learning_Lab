{
  "nbformat": 4,
  "nbformat_minor": 0,
  "metadata": {
    "colab": {
      "name": "Method_3",
      "version": "0.3.2",
      "provenance": [],
      "collapsed_sections": []
    },
    "kernelspec": {
      "name": "python3",
      "display_name": "Python 3"
    }
  },
  "cells": [
    {
      "cell_type": "code",
      "metadata": {
        "id": "iqajdmn56u8T",
        "colab_type": "code",
        "colab": {}
      },
      "source": [
        "from importlib import reload\n",
        "import sys\n",
        "from imp import reload\n",
        "import warnings\n",
        "warnings.filterwarnings('ignore')\n",
        "if sys.version[0] == '2':\n",
        "    reload(sys)\n",
        "    sys.setdefaultencoding(\"utf-8\")\n"
      ],
      "execution_count": 0,
      "outputs": []
    },
    {
      "cell_type": "code",
      "metadata": {
        "id": "WrPSHLQGRHFU",
        "colab_type": "code",
        "colab": {}
      },
      "source": [
        "import pandas as pd\n",
        "labeled_training_data_path = \"https://raw.githubusercontent.com/jawdat23/Machine_Learning_Lab/master/word2vec-nlp-tutorial/labeledTrainData.tsv\"\n",
        "df = pd.read_csv(labeled_training_data_path, delimiter=\"\\t\")\n",
        "df = df.drop(['id'], axis=1)\n",
        "df.head()"
      ],
      "execution_count": 0,
      "outputs": []
    },
    {
      "cell_type": "code",
      "metadata": {
        "id": "xN1ChiSWKT5S",
        "colab_type": "code",
        "outputId": "ddd2e76a-fac5-4044-da36-8bd3187201f1",
        "colab": {
          "base_uri": "https://localhost:8080/",
          "height": 136
        }
      },
      "source": [
        "import nltk.data\n",
        "nltk.download(\"punkt\")\n",
        "nltk.download('stopwords')\n",
        "nltk.download('wordnet')"
      ],
      "execution_count": 9,
      "outputs": [
        {
          "output_type": "stream",
          "text": [
            "[nltk_data] Downloading package punkt to /root/nltk_data...\n",
            "[nltk_data]   Package punkt is already up-to-date!\n",
            "[nltk_data] Downloading package stopwords to /root/nltk_data...\n",
            "[nltk_data]   Package stopwords is already up-to-date!\n",
            "[nltk_data] Downloading package wordnet to /root/nltk_data...\n",
            "[nltk_data]   Package wordnet is already up-to-date!\n"
          ],
          "name": "stdout"
        },
        {
          "output_type": "execute_result",
          "data": {
            "text/plain": [
              "True"
            ]
          },
          "metadata": {
            "tags": []
          },
          "execution_count": 9
        }
      ]
    },
    {
      "cell_type": "code",
      "metadata": {
        "id": "eSUUjQUREYn6",
        "colab_type": "code",
        "colab": {}
      },
      "source": [
        "import re\n",
        "from nltk.stem import WordNetLemmatizer\n",
        "from nltk.corpus import stopwords\n",
        "\n",
        "stop_words = set(stopwords.words(\"english\")) \n",
        "lemmatizer = WordNetLemmatizer()\n",
        "\n",
        "\n",
        "def clean_text(text):\n",
        "    text = re.sub(r'[^\\w\\s]','',text, re.UNICODE)\n",
        "    text = text.lower()\n",
        "    text = [lemmatizer.lemmatize(token) for token in text.split(\" \")]\n",
        "    text = [lemmatizer.lemmatize(token, \"v\") for token in text]\n",
        "    text = [word for word in text if not word in stop_words]\n",
        "    text = \" \".join(text)\n",
        "    return text\n",
        "\n"
      ],
      "execution_count": 0,
      "outputs": []
    },
    {
      "cell_type": "code",
      "metadata": {
        "id": "O0FCpk6SLcjV",
        "colab_type": "code",
        "colab": {}
      },
      "source": [
        "df['Processed_Reviews'] = df.review.apply(lambda x: clean_text(x))"
      ],
      "execution_count": 0,
      "outputs": []
    },
    {
      "cell_type": "code",
      "metadata": {
        "id": "UNfKcPjQAcvR",
        "colab_type": "code",
        "outputId": "03d82274-0224-4065-c8fd-ce57c106f24a",
        "colab": {
          "base_uri": "https://localhost:8080/",
          "height": 34
        }
      },
      "source": [
        "df.Processed_Reviews.apply(lambda x: len(x.split(\" \"))).mean()"
      ],
      "execution_count": 12,
      "outputs": [
        {
          "output_type": "execute_result",
          "data": {
            "text/plain": [
              "128.51009333333334"
            ]
          },
          "metadata": {
            "tags": []
          },
          "execution_count": 12
        }
      ]
    },
    {
      "cell_type": "code",
      "metadata": {
        "id": "tALdVFMPLdcW",
        "colab_type": "code",
        "colab": {
          "base_uri": "https://localhost:8080/",
          "height": 156
        },
        "outputId": "8541df79-5af1-4f1c-9a18-6fc04e8f0809"
      },
      "source": [
        "from keras.preprocessing.text import Tokenizer\n",
        "from keras.preprocessing.sequence import pad_sequences\n",
        "from keras.layers import Dense , Input , LSTM , Embedding, Dropout , Activation, GRU, Flatten\n",
        "from keras.layers import Bidirectional, GlobalMaxPool1D\n",
        "from keras.models import Model, Sequential\n",
        "from keras.layers import Convolution1D, Conv2D, GlobalMaxPool2D\n",
        "from keras import initializers, regularizers, constraints, optimizers, layers\n",
        "\n",
        "max_features = 6000\n",
        "tokenizer = Tokenizer(num_words=max_features)\n",
        "tokenizer.fit_on_texts(df['Processed_Reviews'])\n",
        "list_tokenized_train = tokenizer.texts_to_sequences(df['Processed_Reviews'])\n",
        "\n",
        "maxlen = 130\n",
        "X_t = pad_sequences(list_tokenized_train, maxlen=maxlen)\n",
        "y = df['sentiment']\n",
        "\n",
        "embed_size = 128\n",
        "model = Sequential()\n",
        "model.add(Embedding(max_features, embed_size))\n",
        "model.add(Bidirectional(LSTM(32, return_sequences = True)))\n",
        "# model.add(Conv2D(filters=8, kernel_size=(3,3), activation='relu' , padding='same'))\n",
        "model.add(GlobalMaxPool1D())\n",
        "model.add(Dense(20, activation=\"relu\"))\n",
        "model.add(Dropout(0.05))\n",
        "model.add(Dense(1, activation=\"sigmoid\"))\n",
        "model.compile(loss='binary_crossentropy', optimizer='adam', metrics=['accuracy'])\n",
        "\n",
        "batch_size = 100\n",
        "epochs = 15\n"
      ],
      "execution_count": 13,
      "outputs": [
        {
          "output_type": "stream",
          "text": [
            "Using TensorFlow backend.\n"
          ],
          "name": "stderr"
        },
        {
          "output_type": "stream",
          "text": [
            "WARNING:tensorflow:From /usr/local/lib/python3.6/dist-packages/tensorflow/python/framework/op_def_library.py:263: colocate_with (from tensorflow.python.framework.ops) is deprecated and will be removed in a future version.\n",
            "Instructions for updating:\n",
            "Colocations handled automatically by placer.\n",
            "WARNING:tensorflow:From /usr/local/lib/python3.6/dist-packages/keras/backend/tensorflow_backend.py:3445: calling dropout (from tensorflow.python.ops.nn_ops) with keep_prob is deprecated and will be removed in a future version.\n",
            "Instructions for updating:\n",
            "Please use `rate` instead of `keep_prob`. Rate should be set to `rate = 1 - keep_prob`.\n"
          ],
          "name": "stdout"
        }
      ]
    },
    {
      "cell_type": "code",
      "metadata": {
        "id": "q9m0-2PgLlsu",
        "colab_type": "code",
        "outputId": "46ec98b4-91d0-48bf-c9c7-28d11e9ad51b",
        "colab": {
          "base_uri": "https://localhost:8080/",
          "height": 683
        }
      },
      "source": [
        "model.fit(X_t,y, batch_size=batch_size, epochs=epochs, validation_split=0.2)"
      ],
      "execution_count": 14,
      "outputs": [
        {
          "output_type": "stream",
          "text": [
            "WARNING:tensorflow:From /usr/local/lib/python3.6/dist-packages/tensorflow/python/ops/math_ops.py:3066: to_int32 (from tensorflow.python.ops.math_ops) is deprecated and will be removed in a future version.\n",
            "Instructions for updating:\n",
            "Use tf.cast instead.\n",
            "WARNING:tensorflow:From /usr/local/lib/python3.6/dist-packages/tensorflow/python/ops/math_grad.py:102: div (from tensorflow.python.ops.math_ops) is deprecated and will be removed in a future version.\n",
            "Instructions for updating:\n",
            "Deprecated in favor of operator or tf.math.divide.\n",
            "Train on 60000 samples, validate on 15000 samples\n",
            "Epoch 1/15\n",
            "60000/60000 [==============================] - 218s 4ms/step - loss: 0.3421 - acc: 0.8429 - val_loss: 0.2378 - val_acc: 0.9171\n",
            "Epoch 2/15\n",
            "60000/60000 [==============================] - 219s 4ms/step - loss: 0.2194 - acc: 0.9154 - val_loss: 0.2136 - val_acc: 0.9237\n",
            "Epoch 3/15\n",
            "60000/60000 [==============================] - 219s 4ms/step - loss: 0.1689 - acc: 0.9377 - val_loss: 0.1301 - val_acc: 0.9599\n",
            "Epoch 4/15\n",
            "60000/60000 [==============================] - 218s 4ms/step - loss: 0.1230 - acc: 0.9583 - val_loss: 0.0887 - val_acc: 0.9755\n",
            "Epoch 5/15\n",
            "60000/60000 [==============================] - 220s 4ms/step - loss: 0.0845 - acc: 0.9734 - val_loss: 0.0484 - val_acc: 0.9864\n",
            "Epoch 6/15\n",
            "60000/60000 [==============================] - 219s 4ms/step - loss: 0.0580 - acc: 0.9834 - val_loss: 0.0365 - val_acc: 0.9901\n",
            "Epoch 7/15\n",
            "60000/60000 [==============================] - 218s 4ms/step - loss: 0.0403 - acc: 0.9887 - val_loss: 0.0218 - val_acc: 0.9947\n",
            "Epoch 8/15\n",
            "60000/60000 [==============================] - 221s 4ms/step - loss: 0.0281 - acc: 0.9919 - val_loss: 0.0189 - val_acc: 0.9952\n",
            "Epoch 9/15\n",
            "60000/60000 [==============================] - 221s 4ms/step - loss: 0.0245 - acc: 0.9926 - val_loss: 0.0334 - val_acc: 0.9898\n",
            "Epoch 10/15\n",
            "60000/60000 [==============================] - 222s 4ms/step - loss: 0.0246 - acc: 0.9919 - val_loss: 0.0199 - val_acc: 0.9933\n",
            "Epoch 11/15\n",
            "60000/60000 [==============================] - 222s 4ms/step - loss: 0.0145 - acc: 0.9957 - val_loss: 0.0089 - val_acc: 0.9976\n",
            "Epoch 12/15\n",
            "60000/60000 [==============================] - 221s 4ms/step - loss: 0.0076 - acc: 0.9978 - val_loss: 0.0107 - val_acc: 0.9967\n",
            "Epoch 13/15\n",
            "60000/60000 [==============================] - 224s 4ms/step - loss: 0.0089 - acc: 0.9971 - val_loss: 0.0086 - val_acc: 0.9973\n",
            "Epoch 14/15\n",
            "60000/60000 [==============================] - 222s 4ms/step - loss: 0.0121 - acc: 0.9962 - val_loss: 0.0090 - val_acc: 0.9972\n",
            "Epoch 15/15\n",
            "60000/60000 [==============================] - 224s 4ms/step - loss: 0.0168 - acc: 0.9941 - val_loss: 0.0106 - val_acc: 0.9967\n"
          ],
          "name": "stdout"
        },
        {
          "output_type": "execute_result",
          "data": {
            "text/plain": [
              "<keras.callbacks.History at 0x7f1c05f6d240>"
            ]
          },
          "metadata": {
            "tags": []
          },
          "execution_count": 14
        }
      ]
    },
    {
      "cell_type": "code",
      "metadata": {
        "id": "zrdZugoFL4Pz",
        "colab_type": "code",
        "colab": {}
      },
      "source": [
        "testing_data_path = \"https://raw.githubusercontent.com/jawdat23/Machine_Learning_Lab/master/word2vec-nlp-tutorial/testData.tsv\"\n",
        "df_test=pd.read_csv(testing_data_path, header=0, delimiter=\"\\t\", quoting=3)\n",
        "df_test.head()\n",
        "df_test[\"review\"]=df_test.review.apply(lambda x: clean_text(x))\n",
        "list_sentences_test = df_test[\"review\"]\n",
        "list_tokenized_test = tokenizer.texts_to_sequences(list_sentences_test)\n",
        "X_te = pad_sequences(list_tokenized_test, maxlen=maxlen)\n",
        "prediction = model.predict(X_te)\n",
        "y_pred = prediction > 0.5"
      ],
      "execution_count": 0,
      "outputs": []
    },
    {
      "cell_type": "code",
      "metadata": {
        "id": "7ZhHXA8AyybA",
        "colab_type": "code",
        "colab": {}
      },
      "source": [
        "y_sent = []\n",
        "for y in y_pred:\n",
        "  y_sent.append(int(y))\n",
        "df_test[\"sentiment\"] = y_sent\n",
        "output = pd.DataFrame( data={\"id\":df_test[\"id\"], \"sentiment\":df_test[\"sentiment\"]} )\n",
        "output.to_csv( \"DL_LSTM_15.csv\", index=False, quoting=3 )"
      ],
      "execution_count": 0,
      "outputs": []
    }
  ]
}
